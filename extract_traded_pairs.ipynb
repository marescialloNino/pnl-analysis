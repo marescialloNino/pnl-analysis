{
 "cells": [
  {
   "cell_type": "code",
   "execution_count": 2,
   "id": "0c00ab24",
   "metadata": {},
   "outputs": [
    {
     "name": "stdout",
     "output_type": "stream",
     "text": [
      "                   timestamp  \\\n",
      "0 2025-01-01 07:31:46.294200   \n",
      "1 2025-01-01 18:25:49.234900   \n",
      "2 2025-01-01 20:43:47.320100   \n",
      "3 2025-01-02 00:29:42.565200   \n",
      "4 2025-01-03 16:01:45.906600   \n",
      "\n",
      "                                           positions  \n",
      "0  {'WUSDT': -1, 'LINKUSDT': 1, 'RUNEUSDT': 1, 'S...  \n",
      "1  {'WUSDT': -1, 'LINKUSDT': 1, 'RUNEUSDT': 1, 'S...  \n",
      "2  {'WUSDT': -1, 'RUNEUSDT': 1, 'STORJUSDT': -1, ...  \n",
      "3  {'WUSDT': -1, 'RUNEUSDT': 1, 'STORJUSDT': -1, ...  \n",
      "4  {'WUSDT': -1, 'RUNEUSDT': 1, 'POLUSDT': 1, 'ZR...  \n",
      "Extracted events dataframe:\n",
      "        symbol                  timestamp action  old_position  new_position\n",
      "0      ZROUSDT 2025-01-01 07:31:46.294200   open             0             1\n",
      "1     MASKUSDT 2025-01-01 07:31:46.294200   open             0            -1\n",
      "2    STORJUSDT 2025-01-01 07:31:46.294200   open             0            -1\n",
      "3      BNBUSDT 2025-01-01 07:31:46.294200   open             0            -1\n",
      "4     RUNEUSDT 2025-01-01 07:31:46.294200   open             0             1\n",
      "..         ...                        ...    ...           ...           ...\n",
      "489    XLMUSDT 2025-03-13 17:02:52.534100  close            -1             0\n",
      "490     IDUSDT 2025-03-13 17:04:42.557500  close            -1             0\n",
      "491     ZKUSDT 2025-03-13 17:12:49.845700   open             0             1\n",
      "492    APTUSDT 2025-03-13 17:12:49.845700  close             1             0\n",
      "493    XLMUSDT 2025-03-13 17:12:49.845700   open             0            -1\n",
      "\n",
      "[494 rows x 5 columns]\n",
      "============================================================\n"
     ]
    }
   ],
   "source": [
    "import re\n",
    "import pandas as pd\n",
    "from datetime import datetime\n",
    "from main import parse_current_state_log,parse_order_log, extract_position_events, extract_execution_details\n",
    "\n",
    "df_log = parse_current_state_log(\"current_state.log\")\n",
    "print(df_log.head())\n",
    "\n",
    "df_events = extract_position_events(df_log)\n",
    "print(\"Extracted events dataframe:\")\n",
    "print(df_events)\n",
    "print(\"=\" * 60)\n"
   ]
  },
  {
   "cell_type": "markdown",
   "id": "aa05b72f",
   "metadata": {},
   "source": [
    "## Return a list with all traded pairs\n",
    "\n",
    "this list passed into the binance_feed.py program returns ohlcv data for all required pairs\n"
   ]
  },
  {
   "cell_type": "code",
   "execution_count": 3,
   "id": "e36d2c72",
   "metadata": {},
   "outputs": [
    {
     "name": "stdout",
     "output_type": "stream",
     "text": [
      "Order log dataframe:\n",
      "                timestamp                                            message\n",
      "0 2025-03-06 15:49:28.883  INFO;broker_web_binancefut_mel_cm2;splitting o...\n",
      "1 2025-03-06 15:49:29.404  INFO;broker_web_binancefut_mel_cm2;Preparing o...\n",
      "2 2025-03-06 15:49:29.404  INFO;broker_web_binancefut_mel_cm2;Converted 6...\n",
      "3 2025-03-06 15:49:29.405  INFO;broker_web_binancefut_mel_cm2;Received mi...\n",
      "4 2025-03-06 15:49:29.405  INFO;broker_web_binancefut_mel_cm2;sending ord...\n",
      "============================================================\n",
      "Execution details dataframe:\n",
      "                  timestamp        pair  execution_price\n",
      "0   2025-03-06 15:50:32.716    FLOWUSDT          0.44600\n",
      "1   2025-03-06 15:50:32.716  RENDERUSDT          4.07500\n",
      "2   2025-03-06 15:52:05.575   MANTAUSDT          0.30650\n",
      "3   2025-03-06 15:52:05.575     CHZUSDT          0.05028\n",
      "4   2025-03-06 15:54:08.845     POLUSDT          0.25381\n",
      "..                      ...         ...              ...\n",
      "107 2025-03-10 04:15:28.523    MINAUSDT          0.25890\n",
      "108 2025-03-10 07:47:04.207    NEARUSDT          2.57200\n",
      "109 2025-03-10 07:47:04.207     FETUSDT          0.54250\n",
      "110 2025-03-10 08:57:03.499     SEIUSDT          0.19090\n",
      "111 2025-03-10 08:57:03.499     APEUSDT          0.50550\n",
      "\n",
      "[112 rows x 3 columns]\n",
      "============================================================\n",
      "['CELOUSDT', 'MKRUSDT', 'PYTHUSDT', 'LINKUSDT', 'SEIUSDT', 'SANDUSDT', 'CHZUSDT', 'INJUSDT', 'IDUSDT', 'MEWUSDT', 'XLMUSDT', 'RENDERUSDT', 'TAOUSDT', 'AXSUSDT', 'MASKUSDT', 'BCHUSDT', 'NEOUSDT', 'TONUSDT', 'GASUSDT', 'ATOMUSDT', 'THETAUSDT', 'CFXUSDT', 'APEUSDT', 'EOSUSDT', 'ADAUSDT', 'IMXUSDT', 'ZROUSDT', 'XTZUSDT', 'ZILUSDT', 'BLURUSDT', 'ORDIUSDT', 'STORJUSDT', 'ZRXUSDT', 'BOMEUSDT', 'POLUSDT', 'KAIAUSDT', 'ZETAUSDT', 'EGLDUSDT', 'FETUSDT', 'CKBUSDT', 'APTUSDT', 'BTCUSDT', 'GRTUSDT', 'WUSDT', 'GLMUSDT', 'STXUSDT', 'SAFEUSDT', 'FILUSDT', 'OPUSDT', 'RUNEUSDT', 'SNXUSDT', 'KSMUSDT', 'DOTUSDT', 'ETHUSDT', 'AVAXUSDT', 'UNIUSDT', 'COMPUSDT', 'AAVEUSDT', 'ENSUSDT', 'DOGEUSDT', 'AEVOUSDT', 'GMTUSDT', 'FLOWUSDT', 'MINAUSDT', 'ZKUSDT', 'STRKUSDT', 'ARBUSDT', 'ETCUSDT', 'ROSEUSDT', 'MEMEUSDT', 'YFIUSDT', 'SOLUSDT', 'POLYXUSDT', 'NOTUSDT', 'PIXELUSDT', 'BATUSDT', 'ONTUSDT', 'BNBUSDT', 'MANTAUSDT', '1INCHUSDT', 'LPTUSDT', 'NEARUSDT', 'LTCUSDT', 'ZECUSDT', 'ICPUSDT', 'MANAUSDT']\n"
     ]
    }
   ],
   "source": [
    "df_order_log = parse_order_log(\"binance_bot_data/order_new.log\")\n",
    "print(\"Order log dataframe:\")\n",
    "print(df_order_log.head())\n",
    "print(\"=\" * 60)\n",
    "\n",
    "df_executions = extract_execution_details(df_order_log)\n",
    "print(\"Execution details dataframe:\")\n",
    "print(df_executions)\n",
    "print(\"=\" * 60)\n",
    "  \n",
    "pairs = set()\n",
    "\n",
    "for pair in df_events[\"symbol\"]:\n",
    "    pairs.add(pair)\n",
    "\n",
    "print(list(pairs))"
   ]
  },
  {
   "cell_type": "code",
   "execution_count": null,
   "id": "319632cc",
   "metadata": {},
   "outputs": [
    {
     "data": {
      "text/plain": [
       "86"
      ]
     },
     "execution_count": 12,
     "metadata": {},
     "output_type": "execute_result"
    }
   ],
   "source": [
    "traded_pairs_list = ['CELOUSDT', 'MKRUSDT', 'PYTHUSDT', 'LINKUSDT', 'SEIUSDT', 'SANDUSDT', 'CHZUSDT', 'INJUSDT', 'IDUSDT', 'MEWUSDT', 'XLMUSDT', 'RENDERUSDT', 'TAOUSDT', 'AXSUSDT', 'MASKUSDT', 'BCHUSDT', 'NEOUSDT', 'TONUSDT', 'GASUSDT', 'ATOMUSDT', 'THETAUSDT', 'CFXUSDT', 'APEUSDT', 'EOSUSDT', 'ADAUSDT', 'IMXUSDT', 'ZROUSDT', 'XTZUSDT', 'ZILUSDT', 'BLURUSDT', 'ORDIUSDT', 'STORJUSDT', 'ZRXUSDT', 'BOMEUSDT', 'POLUSDT', 'KAIAUSDT', 'ZETAUSDT', 'EGLDUSDT', 'FETUSDT', 'CKBUSDT', 'APTUSDT', 'BTCUSDT', 'GRTUSDT', 'WUSDT', 'GLMUSDT', 'STXUSDT', 'SAFEUSDT', 'FILUSDT', 'OPUSDT', 'RUNEUSDT', 'SNXUSDT', 'KSMUSDT', 'DOTUSDT', 'ETHUSDT', 'AVAXUSDT', 'UNIUSDT', 'COMPUSDT', 'AAVEUSDT', 'ENSUSDT', 'DOGEUSDT', 'AEVOUSDT', 'GMTUSDT', 'FLOWUSDT', 'MINAUSDT', 'ZKUSDT', 'STRKUSDT', 'ARBUSDT', 'ETCUSDT', 'ROSEUSDT', 'MEMEUSDT', 'YFIUSDT', 'SOLUSDT', 'POLYXUSDT', 'NOTUSDT', 'PIXELUSDT', 'BATUSDT', 'ONTUSDT', 'BNBUSDT', 'MANTAUSDT', '1INCHUSDT', 'LPTUSDT', 'NEARUSDT', 'LTCUSDT', 'ZECUSDT', 'ICPUSDT', 'MANAUSDT']\n",
    "len(traded_pairs_list)"
   ]
  },
  {
   "cell_type": "markdown",
   "id": "13d1fc20",
   "metadata": {},
   "source": [
    "## extract clusters"
   ]
  },
  {
   "cell_type": "code",
   "execution_count": 4,
   "id": "e04117d2",
   "metadata": {},
   "outputs": [
    {
     "name": "stdout",
     "output_type": "stream",
     "text": [
      "Unique coins found: ['LINKUSDT', 'LTCUSDT', 'NEOUSDT', 'FETUSDT', 'BLURUSDT', 'ORDIUSDT', 'MANTAUSDT', 'CKBUSDT', 'IDUSDT', 'SANDUSDT', 'BCHUSDT', 'IMXUSDT', 'DOGEUSDT', 'DRIFTUSDT', 'BTCUSDT', 'MKRUSDT', 'POLUSDT', 'STRKUSDT', 'DYDXUSDT', 'OPUSDT', 'APTUSDT', 'ZRXUSDT', 'MASKUSDT', '1INCHUSDT', 'MINAUSDT', 'GMTUSDT', 'STORJUSDT', 'THETAUSDT', 'ROSEUSDT', 'ZKUSDT', 'XRPUSDT', 'ZROUSDT', 'SNXUSDT', 'ADAUSDT', 'SUIUSDT', 'WUSDT', 'NOTUSDT', 'FLOWUSDT', 'CELOUSDT', 'ENSUSDT', 'FILUSDT', 'POLYXUSDT', 'SOLUSDT', 'BNBUSDT', 'CFXUSDT', 'MEWUSDT', 'BATUSDT', 'KAVAUSDT', 'TONUSDT', 'ETHUSDT', 'AEVOUSDT', 'ZETAUSDT', 'COMPUSDT', 'CAKEUSDT', 'INJUSDT', 'NEARUSDT', 'CHZUSDT', 'ZILUSDT', 'AXSUSDT', 'RENDERUSDT', 'ZECUSDT', 'STXUSDT', 'AAVEUSDT', 'SAFEUSDT', 'PYTHUSDT', 'DOTUSDT', 'GASUSDT', 'EOSUSDT', 'ICPUSDT', 'APEUSDT', 'MANAUSDT', 'SEIUSDT', 'VETUSDT', 'ATOMUSDT', 'GRTUSDT', 'XTZUSDT', 'KAIAUSDT', 'KSMUSDT', 'UNIUSDT', 'GLMUSDT', 'YFIUSDT', 'LPTUSDT', 'PENDLEUSDT', 'QNTUSDT', 'MEMEUSDT', 'TIAUSDT', 'ETCUSDT', 'AXLUSDT', 'ONTUSDT', 'ARBUSDT', 'AVAXUSDT', 'EGLDUSDT']\n"
     ]
    }
   ],
   "source": [
    "import os\n",
    "import json\n",
    "\n",
    "def get_all_coins(directory):\n",
    "    all_coins = set()\n",
    "    # Iterate over all JSON files in the directory\n",
    "    for filename in os.listdir(directory):\n",
    "        if filename.endswith(\".json\"):\n",
    "            filepath = os.path.join(directory, filename)\n",
    "            with open(filepath, \"r\") as file:\n",
    "                data = json.load(file)\n",
    "            # Extract coins from the \"peers\" field\n",
    "            peers_dict = data.get(\"peers\", {})\n",
    "            for symbol, peers in peers_dict.items():\n",
    "                all_coins.update(peers)\n",
    "            # Extract coins from the \"selected\" field\n",
    "            selected_pairs = data.get(\"selected\", [])\n",
    "            for pair in selected_pairs:\n",
    "                # Split the pair string by '__' to extract individual coins\n",
    "                coins = pair.split(\"__\")\n",
    "                all_coins.update(coins)\n",
    "    return all_coins\n",
    "\n",
    "# Example usage: specify your folder path\n",
    "folder_path = \"binance_clusters\"  # Replace with your folder path\n",
    "unique_coins = get_all_coins(folder_path)\n",
    "unique_coins_list = list(unique_coins)\n",
    "print(\"Unique coins found:\", unique_coins_list)\n",
    "\n",
    "\n",
    "\n"
   ]
  },
  {
   "cell_type": "code",
   "execution_count": 12,
   "id": "132b2bfb",
   "metadata": {},
   "outputs": [
    {
     "name": "stdout",
     "output_type": "stream",
     "text": [
      "Combined list: \n",
      "['LINKUSDT', 'BNBUSDT', 'CFXUSDT', 'MEWUSDT', 'BATUSDT', 'XLMUSDT', 'KAVAUSDT', 'LTCUSDT', 'NEOUSDT', 'FETUSDT', 'BLURUSDT', 'TONUSDT', 'ETHUSDT', 'ORDIUSDT', 'MANTAUSDT', 'CKBUSDT', 'AEVOUSDT', 'ZETAUSDT', 'COMPUSDT', 'IDUSDT', 'SANDUSDT', 'CAKEUSDT', 'BCHUSDT', 'INJUSDT', 'NEARUSDT', 'CHZUSDT', 'IMXUSDT', 'DRIFTUSDT', 'DOGEUSDT', 'BTCUSDT', 'ZILUSDT', 'AXSUSDT', 'MKRUSDT', 'RENDERUSDT', 'POLUSDT', 'ZECUSDT', 'STRKUSDT', 'STXUSDT', 'DYDXUSDT', 'AAVEUSDT', 'SAFEUSDT', 'OPUSDT', 'APTUSDT', 'PYTHUSDT', 'ZRXUSDT', 'MASKUSDT', '1INCHUSDT', 'DOTUSDT', 'GASUSDT', 'EOSUSDT', 'ICPUSDT', 'APEUSDT', 'TAOUSDT', 'MANAUSDT', 'SEIUSDT', 'MINAUSDT', 'VETUSDT', 'ATOMUSDT', 'GMTUSDT', 'STORJUSDT', 'THETAUSDT', 'ROSEUSDT', 'GRTUSDT', 'ZKUSDT', 'XTZUSDT', 'KAIAUSDT', 'KSMUSDT', 'UNIUSDT', 'XRPUSDT', 'ZROUSDT', 'SNXUSDT', 'GLMUSDT', 'YFIUSDT', 'LPTUSDT', 'BOMEUSDT', 'PENDLEUSDT', 'RUNEUSDT', 'QNTUSDT', 'MEMEUSDT', 'ADAUSDT', 'SUIUSDT', 'WUSDT', 'TIAUSDT', 'ETCUSDT', 'AXLUSDT', 'ONTUSDT', 'PIXELUSDT', 'NOTUSDT', 'ARBUSDT', 'AVAXUSDT', 'FLOWUSDT', 'EGLDUSDT', 'CELOUSDT', 'ENSUSDT', 'FILUSDT', 'POLYXUSDT', 'SOLUSDT']\n"
     ]
    }
   ],
   "source": [
    "\n",
    "\n",
    "# Create a union by converting both lists to sets and taking the union\n",
    "combined_set = set(unique_coins_list).union(traded_pairs_list)\n",
    "\n",
    "# Convert the result back to a list if needed\n",
    "combined_list = list(combined_set)\n",
    "\n",
    "print(\"Combined list: \")\n",
    "print(combined_list)"
   ]
  },
  {
   "cell_type": "code",
   "execution_count": 3,
   "id": "ed9f374e",
   "metadata": {},
   "outputs": [
    {
     "name": "stdout",
     "output_type": "stream",
     "text": [
      "Coins trades but not in clusters:\n",
      "{'BOMEUSDT', 'RUNEUSDT', 'XLMUSDT', 'TAOUSDT', 'PIXELUSDT'}\n",
      "Coins in clusters but not traded:\n",
      "{'PENDLEUSDT', 'CAKEUSDT', 'KAVAUSDT', 'VETUSDT', 'QNTUSDT', 'SUIUSDT', 'TIAUSDT', 'AXLUSDT', 'DRIFTUSDT', 'XRPUSDT', 'DYDXUSDT'}\n"
     ]
    }
   ],
   "source": [
    "\n",
    "# Find coins in list1 that are not in list2\n",
    "coins_only_in_traded_pairs_list = set(traded_pairs_list) - unique_coins\n",
    "\n",
    "# Alternatively, if you want coins in list2 not in list1:\n",
    "coins_only_in_unique_coins_list = unique_coins - set(traded_pairs_list)\n",
    "\n",
    "print(\"Coins traded but not in clusters:\")\n",
    "print(coins_only_in_traded_pairs_list)\n",
    "\n",
    "print(\"Coins in clusters but not traded:\")\n",
    "print(coins_only_in_unique_coins_list)"
   ]
  },
  {
   "cell_type": "code",
   "execution_count": null,
   "id": "1adc2daa",
   "metadata": {},
   "outputs": [],
   "source": []
  }
 ],
 "metadata": {
  "kernelspec": {
   "display_name": "Python 3 (ipykernel)",
   "language": "python",
   "name": "python3"
  }
 },
 "nbformat": 4,
 "nbformat_minor": 5
}
